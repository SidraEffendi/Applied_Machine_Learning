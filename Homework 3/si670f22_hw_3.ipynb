{
 "cells": [
  {
   "cell_type": "markdown",
   "metadata": {
    "id": "OWTe9VS3_b11"
   },
   "source": [
    "## SI 670 Applied Machine Learning, Week 3: Cross Validation, Logistic Regression and Evaluation (Due Wednesday Sept 21, 2022 11:59pm)\n",
    "\n",
    "For this assignment, you will be exercising on questions related to Logistic regression, Dummy classifiers, and cross-validation.\n",
    "\n",
    "* This homework is worth 100 points in total. Correct answers and code receive full credit, but partial credit will be awarded if you have the right idea even if your final answers aren't quite right.\n",
    "\n",
    "* Submit your completed notebook file to the Canvas site - **IMPORTANT**: please name your submitted file `si670f22-hw3-youruniqname.ipynb`\n",
    "\n",
    "* Any file submitted after the deadline will be marked as late. Please consult the syllabus regarding late submission policies. You can submit the homework as many time as you want, but only your latest submission will be graded.\n",
    "\n",
    "* As a reminder, the notebook code you submit must be your own work. Feel free to discuss general approaches to the homework with classmates. If you end up forming more of a team discussion on multiple questions, please include the names of the people you worked with at the top of your notebook file.\n",
    "\n"
   ]
  },
  {
   "cell_type": "markdown",
   "metadata": {},
   "source": [
    "### Question 1 (20 points)\n",
    "\n",
    "This question asks you to explore the relationship between the distribution of cross-validation scores vs the data size. \n",
    "\n",
    "Please use a 'for' loop to repeat the following steps with `n` varying from `[100, 500, 1000, 5000, 10000]`:\n",
    "1. Generate synthetic data `(X_F1, y_F1)` using `make_friedman1` with `n_samples=n, n_features=7, random_state=0`;\n",
    "2. Create a `LinearRegression` model\n",
    "3. Apply `cross_val_score` to the model and generated data and use three-fold cross-validation.\n",
    "4. Calculate the mean and std of the returned `cv_scores` across the 3 cross-validation folds.\n",
    "\n",
    "Store the mean and std of the `cv_scores` in lists `cv_scores_mean` and `cv_scores_std` respectively. Do you see the std increasing or decreasing? And why? \n",
    "\n",
    "*This function should return a tuple of two lists `(cv_scores_mean, cv_scores_std)`, where both of them should have length 5.*\n"
   ]
  },
  {
   "cell_type": "code",
   "execution_count": 9,
   "metadata": {},
   "outputs": [
    {
     "data": {
      "text/plain": [
       "(0.6018299574452851, 0.12627903848248154)"
      ]
     },
     "execution_count": 9,
     "metadata": {},
     "output_type": "execute_result"
    }
   ],
   "source": [
    "import numpy as np\n",
    "from sklearn.datasets import make_friedman1\n",
    "from sklearn.linear_model import LinearRegression\n",
    "from sklearn.model_selection import cross_val_score\n",
    "\n",
    "X_F1, y_F1 = make_friedman1(n_samples=100, n_features=7, random_state=0)\n",
    "linreg = LinearRegression()\n",
    "cv_scores = cross_val_score(linreg, X_F1, y_F1, cv=3)\n",
    "\n",
    "cv_scores.mean(), cv_scores.std()"
   ]
  },
  {
   "cell_type": "code",
   "execution_count": 10,
   "metadata": {},
   "outputs": [
    {
     "data": {
      "text/plain": [
       "([0.6018299574452851,\n",
       "  0.6992854711790496,\n",
       "  0.7581670531880474,\n",
       "  0.7601055644422732,\n",
       "  0.7630386688459642],\n",
       " [0.12627903848248154,\n",
       "  0.0244238445664555,\n",
       "  0.032066624338011815,\n",
       "  0.008641386533462707,\n",
       "  0.007846567081112229])"
      ]
     },
     "execution_count": 10,
     "metadata": {},
     "output_type": "execute_result"
    }
   ],
   "source": [
    "def answer_one():\n",
    "    import numpy as np\n",
    "    from sklearn.datasets import make_friedman1\n",
    "    from sklearn.linear_model import LinearRegression\n",
    "    from sklearn.model_selection import cross_val_score\n",
    "    \n",
    "    cv_scores_mean = []\n",
    "    cv_scores_std = []\n",
    "  \n",
    "    for n in [100, 500, 1000, 5000, 10000]:\n",
    "        X_F1, y_F1 = make_friedman1(n_samples=n, n_features=7, random_state=0)\n",
    "        linreg = LinearRegression()\n",
    "        cv_scores= cross_val_score(linreg, X_F1, y_F1, cv=3)\n",
    "        cv_scores_mean.append(cv_scores.mean())\n",
    "        cv_scores_std.append(cv_scores.std())\n",
    "    \n",
    "    return (cv_scores_mean, cv_scores_std)\n",
    "\n",
    "answer_one()"
   ]
  },
  {
   "cell_type": "markdown",
   "metadata": {
    "id": "-_pUE4abw2eQ"
   },
   "source": [
    "Now, you will train a logistic regression classifier models and evaluate how effectively it  predicts instances of fraud using data based on [this dataset from Kaggle](https://www.kaggle.com/dalpozz/creditcardfraud). Then you'll perform a grid search to find optimal parameters. \n",
    " \n",
    "Each row in `fraud_data.csv` corresponds to a credit card transaction. Features include confidential variables `V1` through `V28` as well as `Amount` which is the amount of the transaction. \n",
    " \n",
    "The target is stored in the `class` column, where a value of 1 corresponds to an instance of fraud and 0 corresponds to an instance of not fraud."
   ]
  },
  {
   "cell_type": "code",
   "execution_count": 11,
   "metadata": {
    "id": "9sZdd_dXOF6I"
   },
   "outputs": [],
   "source": [
    "# # run this cell if you are using Colab\n",
    "\n",
    "# !rm -rf fraud_data.csv\n",
    "\n",
    "# import io\n",
    "\n",
    "# from google.colab import files as colab_files\n",
    "# uploaded = colab_files.upload()\n",
    "# files = {'fraud_data.csv': io.BytesIO(uploaded['fraud_data.csv'])}\n",
    "\n",
    "# # upload 'fraud_data.csv'"
   ]
  },
  {
   "cell_type": "code",
   "execution_count": 12,
   "metadata": {
    "id": "Qkk268H3OF6J"
   },
   "outputs": [],
   "source": [
    "# run this cell if you are using Jupyter\n",
    "files = {'fraud_data.csv': 'fraud_data.csv'}"
   ]
  },
  {
   "cell_type": "code",
   "execution_count": 13,
   "metadata": {
    "id": "XyRpHK8dOF6J"
   },
   "outputs": [],
   "source": [
    "%matplotlib inline\n",
    "import matplotlib.pyplot as plt\n",
    "import numpy as np\n",
    "import pandas as pd\n",
    "from sklearn.model_selection import train_test_split\n",
    "\n",
    "from sklearn.model_selection import train_test_split\n",
    "\n",
    "df = pd.read_csv(files['fraud_data.csv'])\n",
    "\n",
    "X = df.iloc[:,:-1]\n",
    "y = df.iloc[:,-1]\n",
    "\n",
    "X_train, X_test, y_train, y_test = train_test_split(X, y, random_state=0)"
   ]
  },
  {
   "cell_type": "markdown",
   "metadata": {
    "id": "itE2L8t4w2ee"
   },
   "source": [
    "### Question 2 (20 points)\n",
    "\n",
    "Using `X_train`, `X_test`, `y_train`, and `y_test` (as defined above), train a dummy classifier that classifies everything as the majority class of the training data. What is the accuracy of this classifier? What is the recall?\n",
    "\n",
    "Then train a LogisticRegression classifier with C=1. What is the accuracy? What is the recall?\n",
    "\n",
    "*This function should a return a tuple with four floats, i.e. `(dummy_accuracy, dummy_recall, lr_accuracy, lr_recall)`.*"
   ]
  },
  {
   "cell_type": "code",
   "execution_count": 14,
   "metadata": {},
   "outputs": [],
   "source": [
    "import warnings\n",
    "warnings.filterwarnings('ignore')"
   ]
  },
  {
   "cell_type": "code",
   "execution_count": 15,
   "metadata": {},
   "outputs": [],
   "source": [
    "# X_train"
   ]
  },
  {
   "cell_type": "code",
   "execution_count": 16,
   "metadata": {
    "id": "8qd9c7olOF6L"
   },
   "outputs": [
    {
     "data": {
      "text/plain": [
       "(0.9852507374631269, 0.0, 0.9959439528023599, 0.7875)"
      ]
     },
     "execution_count": 16,
     "metadata": {},
     "output_type": "execute_result"
    }
   ],
   "source": [
    "def answer_two():\n",
    "    from sklearn.dummy import DummyClassifier\n",
    "    from sklearn.linear_model import LogisticRegression\n",
    "    from sklearn.metrics import precision_recall_fscore_support\n",
    "    \n",
    "    dummy_clf = DummyClassifier(strategy=\"most_frequent\").fit(X_train, y_train)\n",
    "#     dummy_clf.fit(X_train, y_train)\n",
    "    dummy_y_pred  = dummy_clf.predict(X_test)\n",
    "    dummy_accuracy = dummy_clf.score(X_test,y_test)\n",
    "    dummy_metrics = precision_recall_fscore_support(y_test, dummy_y_pred, pos_label = 1,average ='binary')\n",
    "    dummy_recall = dummy_metrics[1]\n",
    "    \n",
    "    logreg = LogisticRegression().fit(X_train, y_train)\n",
    "    lr_accuracy = logreg.score(X_test,y_test)\n",
    "    lr_y_pred  = logreg.predict(X_test)\n",
    "    lr_metrics = precision_recall_fscore_support(y_test, lr_y_pred, pos_label = 1, average ='binary')\n",
    "    lr_recall = lr_metrics[1]\n",
    "    \n",
    "    return dummy_accuracy, dummy_recall, lr_accuracy, lr_recall\n",
    "\n",
    "answer_two()"
   ]
  },
  {
   "cell_type": "markdown",
   "metadata": {
    "id": "hzgEUQqLOF6M"
   },
   "source": [
    "### Question 3 (20 points)\n",
    "\n",
    "Fit the LogisticRegression with `C` varying from `[[0.1, 1, 10]` and report the accuracy, precision, recall, and F1 scores for each choice of `C`.\n",
    "\n",
    "*This function should a return a tuple with four lists, i.e. `(accuracy_list, precision_list, recall_list, f1_list)`, and each list should contain 3 numbers, one per choice of C*"
   ]
  },
  {
   "cell_type": "code",
   "execution_count": 17,
   "metadata": {
    "id": "FQhWIu5YOF6N"
   },
   "outputs": [
    {
     "data": {
      "text/plain": [
       "([0.9964970501474927, 0.9959439528023599, 0.9963126843657817],\n",
       " [0.9692307692307692, 0.9264705882352942, 0.9545454545454546],\n",
       " [0.7875, 0.7875, 0.7875],\n",
       " [0.8689655172413793, 0.8513513513513514, 0.8630136986301369])"
      ]
     },
     "execution_count": 17,
     "metadata": {},
     "output_type": "execute_result"
    }
   ],
   "source": [
    "def answer_three():\n",
    "    from sklearn.linear_model import LogisticRegression\n",
    "    from sklearn.metrics import precision_recall_fscore_support\n",
    "    \n",
    "    accuracy_list =[] \n",
    "    precision_list = [] \n",
    "    recall_list =[] \n",
    "    f1_list =[]\n",
    "    \n",
    "    for c in [0.1, 1, 10]:\n",
    "        logreg = LogisticRegression(C=c).fit(X_train, y_train)\n",
    "        y_pred = logreg.predict(X_test)\n",
    "        accuracy = logreg.score(X_test, y_test)\n",
    "        precision, recall, f1_score, temp = precision_recall_fscore_support(y_test, y_pred, average ='binary')\n",
    "        accuracy_list.append(accuracy)\n",
    "        precision_list.append(precision)\n",
    "        recall_list.append(recall)\n",
    "        f1_list.append(f1_score)\n",
    "\n",
    "    return accuracy_list, precision_list, recall_list, f1_list\n",
    "\n",
    "answer_three()"
   ]
  },
  {
   "cell_type": "markdown",
   "metadata": {
    "id": "mPLuNfuBOF6N"
   },
   "source": [
    "### Question 4 (20 points)\n",
    "\n",
    "Train a logistic regression classifier with `C=10` using X_train and y_train.\n",
    "\n",
    "For the logistic regression classifier, create (1) a precision-recall curve and (2) an ROC curve using y_test and the probability estimates for X_test (probability it is fraud).\n",
    "\n",
    "Looking at the precision recall curve, what is the recall when the precision is `0.75`?\n",
    "\n",
    "Looking at the ROC curve, what is the true positive rate when the false positive rate is `0.16`?\n",
    "\n",
    "*This function should return a tuple with two floats, i.e. `(recall_at_p75, tpr_at_fpr16)`.*\n",
    "*You should also include code that uses the scikit-learn (sklearn.metrics) functions precision_recall_curve and roc_curve to generate the precision/recall and ROC curves above*"
   ]
  },
  {
   "cell_type": "code",
   "execution_count": 26,
   "metadata": {},
   "outputs": [
    {
     "data": {
      "image/png": "[encoded data removed]",
      "text/plain": [
       "<Figure size 648x648 with 30 Axes>"
      ]
     },
     "metadata": {
      "needs_background": "light"
     },
     "output_type": "display_data"
    }
   ],
   "source": [
    "X_train.hist(figsize=(9,9));"
   ]
  },
  {
   "cell_type": "markdown",
   "metadata": {},
   "source": [
    "I will use MinMax Scaler because not all the features have a normal distribution."
   ]
  },
  {
   "cell_type": "code",
   "execution_count": 56,
   "metadata": {},
   "outputs": [
    {
     "data": {
      "image/png": "[encoded data removed]",
      "text/plain": [
       "<Figure size 432x288 with 1 Axes>"
      ]
     },
     "metadata": {
      "needs_background": "light"
     },
     "output_type": "display_data"
    },
    {
     "data": {
      "image/png": "[encoded data removed]",
      "text/plain": [
       "<Figure size 432x288 with 1 Axes>"
      ]
     },
     "metadata": {
      "needs_background": "light"
     },
     "output_type": "display_data"
    }
   ],
   "source": [
    "from sklearn.linear_model import LogisticRegression\n",
    "from sklearn.preprocessing import MinMaxScaler\n",
    "from sklearn.metrics import precision_recall_curve\n",
    "from sklearn import metrics\n",
    "\n",
    "from sklearn.metrics import PrecisionRecallDisplay\n",
    "\n",
    "mm_scaler = MinMaxScaler()\n",
    "X_train_scaled = mm_scaler.fit_transform(X_train)\n",
    "logreg = LogisticRegression(C=10).fit(X_train_scaled, y_train)\n",
    "X_test_scaled = mm_scaler.transform(X_test)\n",
    "y_pred = logreg.decision_function(X_test_scaled)\n",
    "\n",
    "fpr, tpr, _ = metrics.roc_curve(y_test, y_pred)\n",
    "# auc = metrics.roc_auc_score(y_test, y_pred_proba)\n",
    "tpr_at_fpr16 = np.interp(0.16, fpr ,tpr)\n",
    "\n",
    "# fpr, tpr, _ = metrics.roc_curve(y_test,  y_pred_proba)\n",
    "# auc = metrics.roc_auc_score(y_test, y_pred_proba)\n",
    "\n",
    "#create ROC curve\n",
    "plt.plot(fpr,tpr,label=\"ROC curve\")\n",
    "plt.ylabel('True Positive Rate')\n",
    "plt.xlabel('False Positive Rate')\n",
    "plt.plot(0.16, tpr_at_fpr16, 'ro', markersize=12, fillstyle='none', mew=3)\n",
    "# plt.legend(loc=4)\n",
    "plt.show()\n",
    "\n",
    "precision, recall, _ = precision_recall_curve(y_test, y_pred)\n",
    "recall_at_p75 = np.interp(0.75, precision, recall)\n",
    "\n",
    "plt.plot(precision, recall, label=\"Precision-Recall curve\")\n",
    "plt.ylabel('Recall')\n",
    "plt.xlabel('Precision')\n",
    "plt.plot(0.75, recall_at_p75, 'ro', markersize=12, fillstyle='none', mew=3)\n",
    "plt.show();\n",
    "# # disp = PrecisionRecallDisplay(precision=precision, recall=recall, drawstyle=\"default\")\n",
    "# disp = PrecisionRecallDisplay.from_predictions(y_test, y_pred)\n",
    "# disp.plot()\n",
    "# plt.plot(0.75, recall_at_p75, 'ro', markersize=12, fillstyle='none', mew=3)\n",
    "# plt.show()\n",
    "\n",
    "\n",
    "# metrics.plot_roc_curve(logreg, X_test_scaled, y_test)\n",
    "# plt.plot(0.16, tpr_at_fpr16, 'ro', markersize=12, fillstyle='none', mew=3)\n",
    "# plt.show()\n",
    "# precision, recall, thresholds = metrics.precision_recall_curve( X_test, y_test)\n",
    "\n",
    "# precision, recall, _ = precision_recall_curve(y_test, y_pred)\n",
    "# # disp = PrecisionRecallDisplay(precision=precision, recall=recall, drawstyle=\"default\")\n",
    "# disp = PrecisionRecallDisplay.from_predictions(y_test, y_pred)\n",
    "# disp.plot()\n",
    "# plt.plot(0.75, recall_at_p75, 'ro', markersize=12, fillstyle='none', mew=3)\n",
    "# plt.show()\n",
    "\n",
    "# precision, recall, pr_thresholds = precision_recall_curve(y_test, y_pred)\n",
    "# # recall_at_p75 = np.interp(0.75, precision, recall)\n",
    "    \n",
    "# display = PrecisionRecallDisplay.from_estimator(\n",
    "#     logreg, X_test_scaled, y_test, name=\"LinearReg\")\n",
    "# display.ax_.set_title(\"2-class Precision-Recall curve\")\n",
    "# display.plot(0.75, recall_at_p75, 'ro', markersize=12, fillstyle='none', mew=3)"
   ]
  },
  {
   "cell_type": "code",
   "execution_count": 58,
   "metadata": {
    "id": "P7O1_7ZaOF6O"
   },
   "outputs": [
    {
     "data": {
      "image/png": "[encoded data removed]",
      "text/plain": [
       "<Figure size 432x288 with 1 Axes>"
      ]
     },
     "metadata": {
      "needs_background": "light"
     },
     "output_type": "display_data"
    },
    {
     "data": {
      "image/png": "[encoded data removed]",
      "text/plain": [
       "<Figure size 432x288 with 1 Axes>"
      ]
     },
     "metadata": {
      "needs_background": "light"
     },
     "output_type": "display_data"
    },
    {
     "data": {
      "text/plain": [
       "(0.825, 0.925)"
      ]
     },
     "execution_count": 58,
     "metadata": {},
     "output_type": "execute_result"
    }
   ],
   "source": [
    "def answer_four():\n",
    "    from sklearn.linear_model import LogisticRegression    \n",
    "    from sklearn.metrics import precision_recall_curve, roc_curve\n",
    "    \n",
    "    mm_scaler = MinMaxScaler()\n",
    "    X_train_scaled = mm_scaler.fit_transform(X_train)\n",
    "    logreg = LogisticRegression(C=10).fit(X_train_scaled, y_train)\n",
    "    X_test_scaled = mm_scaler.transform(X_test)\n",
    "    y_pred = logreg.decision_function(X_test_scaled)\n",
    "\n",
    "    #create ROC curve\n",
    "    fpr, tpr, _ = metrics.roc_curve(y_test, y_pred)\n",
    "    tpr_at_fpr16 = np.interp(0.16, fpr ,tpr)\n",
    "\n",
    "    plt.plot(fpr,tpr,label=\"ROC curve\")\n",
    "    plt.ylabel('True Positive Rate')\n",
    "    plt.xlabel('False Positive Rate')\n",
    "    plt.plot(0.16, tpr_at_fpr16, 'ro', markersize=12, fillstyle='none', mew=3)\n",
    "    plt.show()\n",
    "\n",
    "    #create precision-recall curve\n",
    "    precision, recall, _ = precision_recall_curve(y_test, y_pred)\n",
    "    recall_at_p75 = np.interp(0.75, precision, recall)\n",
    "    \n",
    "    plt.plot(precision, recall, label=\"Precision-Recall curve\")\n",
    "    plt.ylabel('Recall')\n",
    "    plt.xlabel('Precision')\n",
    "    plt.plot(0.75, recall_at_p75, 'ro', markersize=12, fillstyle='none', mew=3)\n",
    "    plt.show();\n",
    "\n",
    "\n",
    "    return recall_at_p75, tpr_at_fpr16\n",
    "\n",
    "answer_four()"
   ]
  },
  {
   "cell_type": "markdown",
   "metadata": {
    "id": "7l9PMRZnOF6O"
   },
   "source": [
    "### Question 5 (20 Points)\n",
    "\n",
    "Suppose you have trained a classifier distinguishing Benign vs Malignant cancers. And the confusion matrix of your classifier is given below.\n",
    "\n",
    "|      \t| Predicted: Benign \t| Predicted: Malignant \t|\n",
    "|:----:\t|----\t|----\t|\n",
    "| Actual: Benign \t|    10000\t|   100 \t|\n",
    "| Actual: Malignant  \t|    200\t|   10 \t|\n",
    "\n",
    "### Question 5 (a) (10 points) \n",
    "If we assume Benign is the positive class and Malignant is the negative class, what are the precision and recall for Benign? If we assume Malignant is the positive class and Benign is the negative class, what are the precision and recall for Malignant?\n",
    "\n",
    "*This function should return a tuple of four float numbers: `(precision_benign, recall_benign, precision_malignant, recall_malignant)`. You can calculate these scores either by coding, or by hand using the correct formulas for precision and recall.*"
   ]
  },
  {
   "cell_type": "code",
   "execution_count": 2,
   "metadata": {
    "id": "l1F7nE48OF6P"
   },
   "outputs": [
    {
     "data": {
      "text/plain": [
       "(0.9803921568627451,\n",
       " 0.9900990099009901,\n",
       " 0.09090909090909091,\n",
       " 0.047619047619047616)"
      ]
     },
     "execution_count": 2,
     "metadata": {},
     "output_type": "execute_result"
    }
   ],
   "source": [
    "def answer_five_a(TP, TN, FP, FN):\n",
    "    \n",
    "    precision_benign = TP/ (TP+FP)\n",
    "    recall_benign = TP / (TP+FN)\n",
    "    \n",
    "    precision_malignant = TN/ (TN+FN)\n",
    "    recall_malignant = TN / (TN+FP)\n",
    "    \n",
    "    return precision_benign, recall_benign, precision_malignant, recall_malignant\n",
    "\n",
    "answer_five_a(TP = 10000, TN = 10, FP = 200, FN = 100)"
   ]
  },
  {
   "cell_type": "markdown",
   "metadata": {
    "id": "Rry-cXSjOF6P"
   },
   "source": [
    "### Question 5 (b) (10 points) \n",
    "If you have another classifier with the following confusion matrix, which classifier do you prefer and why? (Hint: calculate the precision and recall scores for this classifier and compare with the previous classifier, considering what the relative costs are for each type of mistake.)\n",
    "\n",
    "|      \t| Predicted: Benign \t| Predicted: Malignant \t|\n",
    "|:----:\t|----\t|----\t|\n",
    "| Actual: Benign \t|    7000\t|   3100 \t|\n",
    "| Actual: Malignant  \t|    30\t|   180 \t|"
   ]
  },
  {
   "cell_type": "code",
   "execution_count": 5,
   "metadata": {},
   "outputs": [
    {
     "data": {
      "text/plain": [
       "(0.9957325746799431,\n",
       " 0.693069306930693,\n",
       " 0.054878048780487805,\n",
       " 0.8571428571428571)"
      ]
     },
     "execution_count": 5,
     "metadata": {},
     "output_type": "execute_result"
    }
   ],
   "source": [
    "p_benign, r_benign, p_malignant, r_malignant = answer_five_a(TP = 7000, TN = 180, FP = 30, FN = 3100)\n",
    "p_benign, r_benign, p_malignant, r_malignant"
   ]
  },
  {
   "cell_type": "markdown",
   "metadata": {
    "id": "lh7SYTtJOF6P"
   },
   "source": [
    "#### Answer to question 4 (b)\n",
    "\n",
    "Write your answer here."
   ]
  },
  {
   "cell_type": "markdown",
   "metadata": {},
   "source": [
    "We want to not miss out on any possible cancer, so false positives are not a concern and we want less false negatives because our focus is on detecting the malignant tumors. Hence, I pick the classifier with higher value for recall with positive class as 'malignant' which is the second classifier."
   ]
  },
  {
   "cell_type": "code",
   "execution_count": null,
   "metadata": {},
   "outputs": [],
   "source": []
  }
 ],
 "metadata": {
  "anaconda-cloud": {},
  "colab": {
   "collapsed_sections": [],
   "name": "si670f21_hw_3.ipynb",
   "provenance": []
  },
  "kernelspec": {
   "display_name": "Python 3 (ipykernel)",
   "language": "python",
   "name": "python3"
  },
  "language_info": {
   "codemirror_mode": {
    "name": "ipython",
    "version": 3
   },
   "file_extension": ".py",
   "mimetype": "text/x-python",
   "name": "python",
   "nbconvert_exporter": "python",
   "pygments_lexer": "ipython3",
   "version": "3.9.0"
  }
 },
 "nbformat": 4,
 "nbformat_minor": 1
}
