{
 "cells": [
  {
   "cell_type": "markdown",
   "metadata": {
    "id": "OWTe9VS3_b11"
   },
   "source": [
    "## Assignment 1 Part 2:  A simple classification task (70 Points - Due 09/07/2022 11:59pm)"
   ]
  },
  {
   "cell_type": "markdown",
   "metadata": {
    "id": "7HEp-Ft2KkkG"
   },
   "source": [
    "For this part of the assignment, you will be using the Breast Cancer Wisconsin (Diagnostic) Database to create a classifier that can help diagnose patients. First, read through the description of the dataset (below). Then, try out the first one or two questions, which use basic numpy to prepare the data, so you can get familiar with the various columns, etc. Then use k-NN classifiers to learn and make predictions.\n",
    "\n",
    "- Correct answers and code receive full credit, but partial credit will be awarded if you have the right idea even if your final answers aren't quite right.<br><br>\n",
    "\n",
    "- Submit both of your completed notebook files to the Canvas site as a single zip file named si670-hw1-youruniquename.zip.<br><br>\n",
    "\n",
    "- Please name this notebook si670-hw1-part2-youruniqname.ipynb.<br><br>\n",
    "\n",
    "- As a reminder, the notebook code you submit must be your own work. Feel free to discuss general approaches to the homework with classmates: if you end up forming more of a team discussion on multiple questions, please include the names of the people you worked with at the top of your notebook file.<br><br>\n",
    "\n",
    "- Any file submitted after the deadline will be marked as late. Please consult the syllabus regarding late submission policies. You can submit the homework as many time as you want, but only your latest submission will be graded."
   ]
  },
  {
   "cell_type": "code",
   "execution_count": null,
   "metadata": {
    "id": "K7upHGCoupou"
   },
   "outputs": [],
   "source": [
    "# import required modules and load data file\n",
    "import numpy as np\n",
    "import pandas as pd\n",
    "from sklearn.datasets import load_breast_cancer\n",
    "\n",
    "cancer = load_breast_cancer()\n",
    "\n",
    "# print(cancer.DESCR)  # print the data set description"
   ]
  },
  {
   "cell_type": "markdown",
   "metadata": {
    "id": "MEGrUkGz_b11"
   },
   "source": [
    "The object returned by `load_breast_cancer()` is a scikit-learn Bunch object, which is similar to a dictionary."
   ]
  },
  {
   "cell_type": "code",
   "execution_count": null,
   "metadata": {
    "colab": {
     "base_uri": "https://localhost:8080/",
     "height": 204
    },
    "executionInfo": {
     "elapsed": 379,
     "status": "ok",
     "timestamp": 1567994881209,
     "user": {
      "displayName": "Jiaqi Ma",
      "photoUrl": "https://lh3.googleusercontent.com/a-/AAuE7mDucT1ChOkYa6DBGLV_QOkCeaDrSjU4meyMhp0cLg=s64",
      "userId": "01352073874375582073"
     },
     "user_tz": 240
    },
    "id": "_Zd27xZ1_b12",
    "outputId": "e5cb010f-b513-4aaf-dc61-d9f0f61f7d23"
   },
   "outputs": [],
   "source": [
    "cancer.keys()"
   ]
  },
  {
   "cell_type": "code",
   "execution_count": null,
   "metadata": {
    "id": "cDaem8gKKkkK",
    "outputId": "99cfe32b-d7b3-4b9f-e3b8-b4740edc9674"
   },
   "outputs": [],
   "source": [
    "cancer.feature_names"
   ]
  },
  {
   "cell_type": "markdown",
   "metadata": {
    "id": "j9n5AHxnKkkL"
   },
   "source": [
    "### Question 1 (10 points)\n",
    "\n",
    "Scikit-learn works with lists, numpy arrays, scipy-sparse matrices, and pandas DataFrames, so converting the dataset to a DataFrame is not necessary for training this model. Using a DataFrame does however help make many things easier such as manipulating data, so let's practice creating a classifier with a pandas DataFrame. \n",
    "\n",
    "\n",
    "\n",
    "Convert the sklearn.dataset `cancer` to a DataFrame. \n",
    "\n",
    "*This function should return a `(569, 31)` DataFrame with * \n",
    "\n",
    "*columns = *\n",
    "\n",
    "    ['mean radius', 'mean texture', 'mean perimeter', 'mean area',\n",
    "    'mean smoothness', 'mean compactness', 'mean concavity',\n",
    "    'mean concave points', 'mean symmetry', 'mean fractal dimension',\n",
    "    'radius error', 'texture error', 'perimeter error', 'area error',\n",
    "    'smoothness error', 'compactness error', 'concavity error',\n",
    "    'concave points error', 'symmetry error', 'fractal dimension error',\n",
    "    'worst radius', 'worst texture', 'worst perimeter', 'worst area',\n",
    "    'worst smoothness', 'worst compactness', 'worst concavity',\n",
    "    'worst concave points', 'worst symmetry', 'worst fractal dimension',\n",
    "    'target']\n",
    "\n",
    "*and index = *\n",
    "\n",
    "    RangeIndex(start=0, stop=569, step=1)"
   ]
  },
  {
   "cell_type": "code",
   "execution_count": null,
   "metadata": {
    "id": "5lNbZwh0KkkL"
   },
   "outputs": [],
   "source": [
    "def answer_one():\n",
    "    \n",
    "    # Your code here\n",
    "    \n",
    "    return pd.DataFrame(d)\n",
    "\n",
    "\n",
    "# answer_one()"
   ]
  },
  {
   "cell_type": "markdown",
   "metadata": {
    "id": "qoXpGH5bKkkM"
   },
   "source": [
    "### Question 2 (20 points)\n",
    "Using `train_test_split`, split the dataset into training and test sets `(X_train, X_test, y_train, and y_test)`.\n",
    "\n",
    "**Set the random number generator state to 0 using `random_state=0` to make sure your results match ours **\n",
    "\n",
    "*This function should return a tuple of length 4:* `(X_train, X_test, y_train, y_test)`*, where* \n",
    "* `X_train` *has shape* `(426, 30)`\n",
    "* `X_test` *has shape* `(143, 30)`\n",
    "* `y_train` *has shape* `(426,)`\n",
    "* `y_test` *has shape* `(143,)`"
   ]
  },
  {
   "cell_type": "code",
   "execution_count": null,
   "metadata": {
    "id": "-iGrsxoPKkkM"
   },
   "outputs": [],
   "source": [
    "from sklearn.model_selection import train_test_split\n",
    "\n",
    "def answer_two():\n",
    "    df = answer_one()\n",
    "    \n",
    "    # Your code here\n",
    "\n",
    "    return X_train, X_test, y_train, y_test\n",
    "\n",
    "\n",
    "# answer_two()"
   ]
  },
  {
   "cell_type": "markdown",
   "metadata": {
    "id": "wPHq60MzKkkN"
   },
   "source": [
    "### Question 3 (20 points)\n",
    "Using KNeighborsClassifier, fit a k-nearest neighbors (knn) classifier with `n_neighbors = 5` on `X_train`, `y_train`. Then evaluate the classifier accuracy using `score` function on `X_test` and `y_test`.\n",
    "\n",
    "*This function should return a tuple of (knn, accuracy), where*\n",
    "* `knn` is a `sklearn.neighbors.classification.KNeighborsClassifier`\n",
    "* `accuracy` is a `float` number returned by the `score` function"
   ]
  },
  {
   "cell_type": "code",
   "execution_count": null,
   "metadata": {
    "id": "tw27wx_gKkkN"
   },
   "outputs": [],
   "source": [
    "from sklearn.neighbors import KNeighborsClassifier\n",
    "\n",
    "def answer_three():\n",
    "    X_train, X_test, y_train, y_test = answer_two()\n",
    "    \n",
    "    # Your code here\n",
    "    \n",
    "    return (knn, accuracy)\n",
    "\n",
    "\n",
    "# answer_three()"
   ]
  },
  {
   "cell_type": "markdown",
   "metadata": {
    "id": "cRHF36CLKkkN"
   },
   "source": [
    "### Question 4 (20 points)\n",
    "Recall in the fruits example in lab1, we found the feature scales matter. In this question, please examine the mean and standard deviation of `X_train`, and use the `sklearn.preprocessing.StandardScaler` to normalize the feature. Then train another knn (k=5) classifier and evaluate it.\n",
    "\n",
    "*This function should return a tuple of (standardized_X_train, knn, accuracy), where*\n",
    "* `standardized_X_train` is a `pandas.DataFrame` of the standardized features\n",
    "* `knn` is a `sklearn.neighbors.classification.KNeighborsClassifier`\n",
    "* `accuracy` is a `float` number returned by the `score` function"
   ]
  },
  {
   "cell_type": "code",
   "execution_count": null,
   "metadata": {
    "id": "5F5tB8hmKkkO"
   },
   "outputs": [],
   "source": [
    "from sklearn.preprocessing import StandardScaler\n",
    "\n",
    "\n",
    "def answer_four():\n",
    "    X_train, X_test, y_train, y_test = answer_two()\n",
    "    \n",
    "    # Your code here\n",
    "\n",
    "    return (standardized_X_train, knn, accuracy)  \n",
    "\n",
    "\n",
    "# answer_four()"
   ]
  },
  {
   "cell_type": "code",
   "execution_count": null,
   "metadata": {
    "id": "PzOEEpWKKkkO"
   },
   "outputs": [],
   "source": []
  }
 ],
 "metadata": {
  "anaconda-cloud": {},
  "colab": {
   "collapsed_sections": [],
   "name": "si670f21_hw_1_part2_predict.ipynb",
   "provenance": []
  },
  "kernelspec": {
   "display_name": "Python 3 (ipykernel)",
   "language": "python",
   "name": "python3"
  },
  "language_info": {
   "codemirror_mode": {
    "name": "ipython",
    "version": 3
   },
   "file_extension": ".py",
   "mimetype": "text/x-python",
   "name": "python",
   "nbconvert_exporter": "python",
   "pygments_lexer": "ipython3",
   "version": "3.9.0"
  }
 },
 "nbformat": 4,
 "nbformat_minor": 1
}
