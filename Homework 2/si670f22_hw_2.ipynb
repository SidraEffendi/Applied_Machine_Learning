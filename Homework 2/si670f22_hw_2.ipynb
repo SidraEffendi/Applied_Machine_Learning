{
 "cells": [
  {
   "cell_type": "markdown",
   "metadata": {
    "id": "OWTe9VS3_b11"
   },
   "source": [
    "## SI 670 Applied Machine Learning, Week 2:  Basic supervised learning concepts (Due Wednesday 09/14/2022 11:59pm)\n",
    "\n",
    "For this assignment, you will be practicing various machine learning operations in scikit-learn related to linear regression, polynomial feature expansion and underfitting/overfitting.\n",
    "\n",
    "* This homework is worth 100 points in total. Correct answers and code receive full credit, but partial credit will be awarded if you have the right idea even if your final answers aren't quite right.\n",
    "\n",
    "* Submit your completed notebook file to the Canvas site - **IMPORTANT**: please name your submitted file `si670f22-hw2-youruniqname.ipynb`\n",
    "\n",
    "* Any file submitted after the deadline will be marked as late. Please consult the syllabus regarding late submission policies. You can submit the homework as many time as you want, but only your latest submission will be graded.\n",
    "\n",
    "* As a reminder, the notebook code you submit must be your own work. Feel free to discuss general approaches to the homework with classmates. If you end up forming more of a team discussion on multiple questions, please include the names of the people you worked with at the top of your notebook file.\n",
    "\n"
   ]
  },
  {
   "cell_type": "markdown",
   "metadata": {
    "id": "yJblUABQ6R07"
   },
   "source": [
    "### Question 1(40 points)\n",
    "\n",
    "Your goal for this question is to run a simple linear regression on the data, and investigate its performance. Note that this question has multiple parts. \n",
    "\n",
    "First you need to run the following block, which sets up the training and test datasets to be used for this question."
   ]
  },
  {
   "cell_type": "code",
   "execution_count": 1,
   "metadata": {
    "executionInfo": {
     "elapsed": 202,
     "status": "ok",
     "timestamp": 1662101250530,
     "user": {
      "displayName": "Sanzeed Anwar",
      "userId": "13718033999873552038"
     },
     "user_tz": 240
    },
    "id": "34JPtsx388kY"
   },
   "outputs": [],
   "source": [
    "import numpy as np\n",
    "\n",
    "# We fix the state of the random number generator here in order to maintain consistency in the results\n",
    "rs = np.random.RandomState(0)\n",
    "X_train = rs.uniform(size = (100, 1))\n",
    "y_train = 5 * X_train + 8\n",
    "X_test = rs.uniform(size = (20, 1))\n",
    "y_test = 7 * X_test + 1"
   ]
  },
  {
   "cell_type": "markdown",
   "metadata": {
    "id": "iR2-Hzsd9NTR"
   },
   "source": [
    "Now, write a function that takes in training data as input, and fits a line to the data using a linear regression model. Your function should return the linear regression model."
   ]
  },
  {
   "cell_type": "code",
   "execution_count": 2,
   "metadata": {
    "id": "db_tG46Z-Xh9"
   },
   "outputs": [],
   "source": [
    "def fit_line(X_train, y_train):\n",
    "    from sklearn.linear_model import LinearRegression\n",
    "\n",
    "   #fit a linear regression model to the input data\n",
    "    linreg = LinearRegression().fit(X_train, y_train)\n",
    "    \n",
    "    # Return the linear regression model\n",
    "    return linreg"
   ]
  },
  {
   "cell_type": "markdown",
   "metadata": {
    "id": "0m0TIFsE_5TO"
   },
   "source": [
    "Run the following block of code in order to (1) compute the the $R^2$ (coefficient of determination) regression score on both training and test datasets, and then (2) plot the training and test datasets in the same figure, marked by different colors (blue for training data, red for test data)."
   ]
  },
  {
   "cell_type": "code",
   "execution_count": 3,
   "metadata": {
    "id": "mFV1YnNvCBUz"
   },
   "outputs": [
    {
     "name": "stdout",
     "output_type": "stream",
     "text": [
      "R-squared score (training): 1.000\n",
      "R-squared score (test): -11.533\n"
     ]
    },
    {
     "data": {
      "text/plain": [
       "<matplotlib.collections.PathCollection at 0x7fafc65288e0>"
      ]
     },
     "execution_count": 3,
     "metadata": {},
     "output_type": "execute_result"
    },
    {
     "data": {
      "image/png": "[encoded data removed]",
      "text/plain": [
       "<Figure size 432x288 with 1 Axes>"
      ]
     },
     "metadata": {
      "needs_background": "light"
     },
     "output_type": "display_data"
    }
   ],
   "source": [
    "# Fit a line to the dataset we generated at the beginning of this problem using your function\n",
    "linreg = fit_line(X_train, y_train)\n",
    "\n",
    "# Compute R^2 score of your model on training and test sets\n",
    "print('R-squared score (training): {:.3f}'\n",
    "     .format(linreg.score(X_train, y_train)))\n",
    "print('R-squared score (test): {:.3f}'\n",
    "     .format(linreg.score(X_test, y_test)))\n",
    "\n",
    "# Plot the training and test datasets in the same figure marked by different colors\n",
    "import matplotlib.pyplot as plt\n",
    "fig = plt.figure()\n",
    "plt.xlim(-0.5, 2)\n",
    "plt.ylim(0, 15)\n",
    "plt.scatter(X_train, y_train, c='blue', marker='o', s=50) # Blue points are from training dataset\n",
    "plt.scatter(X_test, y_test, c='red', marker='o', s=50) # Red points are from test dataset"
   ]
  },
  {
   "cell_type": "markdown",
   "metadata": {
    "id": "cDf3jPcaDFuS"
   },
   "source": [
    "What does the $R^2$ score of your model on the two datasets tell you about the performance of your model? Using the plot of the two datasets, why do you think we get these $R^2$ scores? Please provide your answer in the text cell below."
   ]
  },
  {
   "cell_type": "markdown",
   "metadata": {
    "id": "0VXwm17DDcE8"
   },
   "source": [
    "The distribution of the training and test dataset is different and the linear model fits the train set so well that it is not generalizable anymore and leads to overfitting."
   ]
  },
  {
   "cell_type": "markdown",
   "metadata": {
    "id": "-_pUE4abw2eQ"
   },
   "source": [
    "### Preliminary for questions 2 and 3\n",
    "Before continuitng on to the next question, run the following block to set up the variables needed for later sections. It generates training and test data that we're going to use to fit a non-linear function (as opposed to the traditional linear regression problems you saw in the previous questions)."
   ]
  },
  {
   "cell_type": "code",
   "execution_count": 4,
   "metadata": {
    "colab": {
     "base_uri": "https://localhost:8080/",
     "height": 265
    },
    "executionInfo": {
     "elapsed": 400,
     "status": "ok",
     "timestamp": 1631799175770,
     "user": {
      "displayName": "Yachuan Liu",
      "photoUrl": "https://lh3.googleusercontent.com/a-/AOh14Gij8Ojdx9XnyGBJ_SPyXzrzY9XgpmvkCb9LHW5g7A=s64",
      "userId": "03259489182195354433"
     },
     "user_tz": 240
    },
    "id": "elbBIPpuyZeH",
    "outputId": "d316d0a5-d26e-4969-ab3d-147342f755b4"
   },
   "outputs": [
    {
     "data": {
      "image/png": "[encoded data removed]",
      "text/plain": [
       "<Figure size 432x288 with 1 Axes>"
      ]
     },
     "metadata": {
      "needs_background": "light"
     },
     "output_type": "display_data"
    }
   ],
   "source": [
    "import pandas as pd\n",
    "from sklearn.model_selection import train_test_split\n",
    "\n",
    "\n",
    "np.random.seed(0)\n",
    "n = 30\n",
    "x = np.linspace(0, 10, n) + np.random.randn(n) / 5\n",
    "y = np.sin(x) + x / 4 + np.random.randn(n) / 3\n",
    "\n",
    "\n",
    "X_train, X_test, y_train, y_test = train_test_split(x, y, random_state=0)\n",
    "\n",
    "# You can use this function to help you visualize the dataset by\n",
    "# plotting a scatterplot of the data points\n",
    "# in the training and test sets.\n",
    "def part1_scatter():\n",
    "    import matplotlib.pyplot as plt\n",
    "    %matplotlib inline\n",
    "    plt.figure()\n",
    "    plt.scatter(X_train, y_train, label='training data')\n",
    "    plt.scatter(X_test, y_test, label='test data')\n",
    "    plt.legend(loc=4);\n",
    "    \n",
    "    \n",
    "part1_scatter()  # let's plot the training and test data for the upcoming questions."
   ]
  },
  {
   "cell_type": "markdown",
   "metadata": {
    "id": "itE2L8t4w2ee"
   },
   "source": [
    "### Question 2 (30 points)\n",
    "\n",
    "Write a function that fits a polynomial curve to the data, by using a polynomial LinearRegression model on the *training data* `X_train` for degrees 1, 3, 6, and 9. (Recall that we use PolynomialFeatures in sklearn.preprocessing to create the polynomial features and then fit a linear regression model to those extended features). For each model, find 100 predicted values over the interval x = 0 to 10 (e.g. `np.linspace(0,10,100)`) and store this in a numpy array. The first row of this array should correspond to the output from the model trained on degree 1, the second row degree 3, the third row degree 6, and the fourth row degree 9.\n",
    "\n",
    "Note that you can run the `plot_two()` function to see the fitted curves on top of the dataset.\n",
    "\n",
    "<br>\n",
    "*This function should return a numpy array with shape `(4, 100)`*"
   ]
  },
  {
   "cell_type": "code",
   "execution_count": 5,
   "metadata": {},
   "outputs": [
    {
     "data": {
      "text/plain": [
       "((22, 1), (22,), (100,))"
      ]
     },
     "execution_count": 5,
     "metadata": {},
     "output_type": "execute_result"
    }
   ],
   "source": [
    "# X_train.reshape(-1,1).shape\n",
    "y_train[:, np.newaxis].shape, y_train.shape, np.linspace(0,10,100).shape"
   ]
  },
  {
   "cell_type": "code",
   "execution_count": 20,
   "metadata": {},
   "outputs": [
    {
     "name": "stdout",
     "output_type": "stream",
     "text": [
      "1\n",
      "3\n",
      "6\n",
      "9\n"
     ]
    },
    {
     "data": {
      "text/plain": [
       "array([[1., 2., 3.],\n",
       "       [1., 2., 3.],\n",
       "       [1., 2., 3.],\n",
       "       [1., 2., 3.]])"
      ]
     },
     "execution_count": 20,
     "metadata": {},
     "output_type": "execute_result"
    }
   ],
   "source": [
    "res = np.empty((0,3))\n",
    "n_feature = [1,3,6,9]\n",
    "for n in n_feature:\n",
    "    print(n)\n",
    "    res=np.append(res, np.array([[1,2, 3]]), axis =0)\n",
    "    \n",
    "res"
   ]
  },
  {
   "cell_type": "code",
   "execution_count": 105,
   "metadata": {
    "executionInfo": {
     "elapsed": 206,
     "status": "ok",
     "timestamp": 1662103878003,
     "user": {
      "displayName": "Sanzeed Anwar",
      "userId": "13718033999873552038"
     },
     "user_tz": 240
    },
    "id": "TO--G8UlyZeK"
   },
   "outputs": [],
   "source": [
    "def answer_two(n_feature):\n",
    "    from sklearn.linear_model import LinearRegression\n",
    "    from sklearn.preprocessing import PolynomialFeatures\n",
    "    \n",
    "    #loop\n",
    "#     res = []\n",
    "    res = np.empty((0,100))\n",
    "#     n_feature = [1,3,6,9]\n",
    "    for n in n_feature:\n",
    "        #building polynomial model\n",
    "        poly = PolynomialFeatures(n)\n",
    "        poly_x = poly.fit_transform(X_train.reshape(-1,1))\n",
    "        p_reg = poly.fit(poly_x, y_train)\n",
    "#         print(poly_x.shape, X_train.shape)\n",
    "        \n",
    "        #building linear model\n",
    "        linreg = LinearRegression().fit(poly_x, y_train[:, np.newaxis])\n",
    "        \n",
    "        #fitting the linear model\n",
    "        prediction =linreg.predict(poly.fit_transform(np.linspace(0,10,100).reshape(-1, 1)))\n",
    "#         prediction =linreg.predict(p_reg.fit_transform(np.linspace(0,10,100).reshape(-1, 1)))\n",
    "#         print(prediction.dtype, prediction.T.shape, np.squeeze(prediction).shape)\n",
    "        res= np.append(res, prediction.T, axis=0)\n",
    "\n",
    "#     return np.squeeze(np.array(res)).shape\n",
    "    return res\n",
    "\n",
    "# answer_two()"
   ]
  },
  {
   "cell_type": "code",
   "execution_count": null,
   "metadata": {},
   "outputs": [],
   "source": []
  },
  {
   "cell_type": "code",
   "execution_count": 106,
   "metadata": {
    "executionInfo": {
     "elapsed": 227,
     "status": "ok",
     "timestamp": 1662103878470,
     "user": {
      "displayName": "Sanzeed Anwar",
      "userId": "13718033999873552038"
     },
     "user_tz": 240
    },
    "id": "yjmykW7GyZeL"
   },
   "outputs": [
    {
     "data": {
      "image/png": "[encoded data removed]",
      "text/plain": [
       "<Figure size 720x360 with 1 Axes>"
      ]
     },
     "metadata": {
      "needs_background": "light"
     },
     "output_type": "display_data"
    }
   ],
   "source": [
    "# feel free to use the function plot_one() to replicate the figure \n",
    "# from the prompt once you have completed question one\n",
    "def plot_two(degree_predictions):\n",
    "    import matplotlib.pyplot as plt\n",
    "    %matplotlib inline\n",
    "    plt.figure(figsize=(10,5))\n",
    "    plt.plot(X_train, y_train, 'o', label='training data', markersize=10)\n",
    "    plt.plot(X_test, y_test, 'o', label='test data', markersize=10)\n",
    "    for i,degree in enumerate([1,3,6,9]):\n",
    "        plt.plot(np.linspace(0,10,100), degree_predictions[i], alpha=0.8, lw=2, label='degree={}'.format(degree))\n",
    "    plt.ylim(-1,3.5)\n",
    "    plt.legend(loc=4)\n",
    "\n",
    "n_feature = [1,3,6,9]\n",
    "plot_two(answer_two(n_feature))"
   ]
  },
  {
   "cell_type": "markdown",
   "metadata": {
    "id": "zEPri5P8yZeL"
   },
   "source": [
    "### Question 3 (30 points)\n",
    "\n",
    "Write a function that fits a polynomial LinearRegression model on the training data `X_train` for degrees 0 through 9. For each model compute the $R^2$ (coefficient of determination) regression score on the training data as well as the the test data, and return both of these arrays in a tuple.\n",
    "\n",
    "Based on the $R^2$ scores above (degree levels 0 through 9), what degree level corresponds to a model that is underfitting? What degree level corresponds to a model that is overfitting? What choice of degree level would provide a model with good generalization performance on this dataset? Note: there may be multiple correct solutions to this question.\n",
    "\n",
    "(Hint: you can plot the r2_train and r2_test vs the degree to investigate underfitting/overfitting.)\n",
    "\n",
    "*This function should return one tuple of numpy arrays `(r2_train, r2_test, Underfitting, Good_Generalization, Overfitting)`, where both `r2_train` and `r2_test` should have shape `(10,)`, and `Underfitting, Good_Generalization, Overfitting` should be three lists of int partitioning 0-9.*"
   ]
  },
  {
   "cell_type": "code",
   "execution_count": 107,
   "metadata": {},
   "outputs": [
    {
     "data": {
      "text/plain": [
       "(0.8714478477112116, 0.7573712228392687)"
      ]
     },
     "execution_count": 107,
     "metadata": {},
     "output_type": "execute_result"
    }
   ],
   "source": [
    "from sklearn.linear_model import LinearRegression\n",
    "from sklearn.preprocessing import PolynomialFeatures\n",
    "n=5\n",
    "poly = PolynomialFeatures(n)\n",
    "poly_x_train = poly.fit_transform(X_train.reshape(-1,1))\n",
    "# p_reg = poly.fit(poly_x_train, y_train)\n",
    "# print(poly_x_train.shape, X_train.shape)\n",
    "        \n",
    "        #building linear model\n",
    "linreg = LinearRegression().fit(poly_x_train, y_train[:, np.newaxis])\n",
    "        \n",
    "        #fitting the linear model\n",
    "# prediction =linreg.predict(poly.fit_transform(np.linspace(0,10,100).reshape(-1, 1)))\n",
    "r2_train = linreg.score(poly_x_train, y_train)\n",
    "r2_test = linreg.score(poly.transform(X_test.reshape(-1,1)), y_test)\n",
    "r2_train, r2_test"
   ]
  },
  {
   "cell_type": "code",
   "execution_count": 121,
   "metadata": {},
   "outputs": [
    {
     "data": {
      "text/plain": [
       "[0, 1, 2, 3, 4, 5, 6, 7, 8, 9]"
      ]
     },
     "execution_count": 121,
     "metadata": {},
     "output_type": "execute_result"
    }
   ],
   "source": [
    "list(range(10))"
   ]
  },
  {
   "cell_type": "code",
   "execution_count": 127,
   "metadata": {
    "id": "ug201rllyZeM"
   },
   "outputs": [
    {
     "data": {
      "text/plain": [
       "([0.0,\n",
       "  0.2643975500223753,\n",
       "  0.32742357618463,\n",
       "  0.3722012635797509,\n",
       "  0.8673604496714548,\n",
       "  0.8714478477112116,\n",
       "  0.913357440948628,\n",
       "  0.9365234357860511,\n",
       "  0.9384067915706871,\n",
       "  0.9406850610893129],\n",
       " [-0.010639689448016743,\n",
       "  0.5404084766379272,\n",
       "  0.6426655069520222,\n",
       "  0.7638109083466701,\n",
       "  0.6592259101689868,\n",
       "  0.7573712228392687,\n",
       "  0.7713032363184007,\n",
       "  0.38779951037103,\n",
       "  0.8104206069763038,\n",
       "  -0.5929319846035339],\n",
       " [0, 1, 2, 3],\n",
       " [4, 5, 6, 8],\n",
       " [7, 9])"
      ]
     },
     "execution_count": 127,
     "metadata": {},
     "output_type": "execute_result"
    },
    {
     "data": {
      "image/png": "[encoded data removed]",
      "text/plain": [
       "<Figure size 720x360 with 1 Axes>"
      ]
     },
     "metadata": {
      "needs_background": "light"
     },
     "output_type": "display_data"
    }
   ],
   "source": [
    "def answer_three():\n",
    "    from sklearn.linear_model import LinearRegression\n",
    "    from sklearn.preprocessing import PolynomialFeatures\n",
    "    \n",
    "    r2_train =[]\n",
    "    r2_test=[]\n",
    "    Underfitting =[]\n",
    "    Good_Generalization=[]\n",
    "    Overfitting=[]\n",
    "    n_features = list(range(10))\n",
    "    for n in n_features:\n",
    "        #building polynomial model\n",
    "        poly = PolynomialFeatures(n)\n",
    "        poly_x_train = poly.fit_transform(X_train.reshape(-1,1))\n",
    "#         preg = poly.fit(X_train.reshape(-1,1), y_train)\n",
    "#         print(poly_x.shape, X_train.shape)\n",
    "        \n",
    "        #building linear model\n",
    "        linreg = LinearRegression().fit(poly_x_train, y_train[:, np.newaxis])\n",
    "        \n",
    "        r2_train.append(linreg.score(poly_x_train, y_train))\n",
    "        r2_test.append(linreg.score(poly.transform(X_test.reshape(-1,1)), y_test))\n",
    "    \n",
    "    #plotting the r2 scores\n",
    "    %matplotlib inline\n",
    "    plt.figure(figsize=(10,5))\n",
    "    plt.plot(n_features, r2_train,'o', label='r2_train', markersize=12)\n",
    "    plt.plot(n_features, r2_test,'o', label='r2_test', markersize=12)\n",
    "    plt.xticks(np.array(n_features))\n",
    "    plt.legend(loc=0)\n",
    "     \n",
    "    \n",
    "    for i, train_r2_item in enumerate(r2_train):\n",
    "        #r2 for training data is low (< 0.4), may or may not perform well on the test data \n",
    "        if train_r2_item <= 0.4:\n",
    "            Underfitting.append(n_features[i])\n",
    "            # high r2 for training set but poor for the test set\n",
    "        elif (train_r2_item - r2_test[i]) > 0.3:\n",
    "            Overfitting.append(n_features[i])\n",
    "        else: \n",
    "            Good_Generalization.append(n_features[i])\n",
    "    return (r2_train, r2_test, Underfitting, Good_Generalization, Overfitting)\n",
    "\n",
    "answer_three()"
   ]
  },
  {
   "cell_type": "code",
   "execution_count": 109,
   "metadata": {},
   "outputs": [],
   "source": [
    "# fig1 = part1_scatter()"
   ]
  },
  {
   "cell_type": "code",
   "execution_count": 91,
   "metadata": {},
   "outputs": [
    {
     "data": {
      "text/plain": [
       "(array([0.        , 0.26439755, 0.32742358, 0.37220126, 0.86736045,\n",
       "        0.87144785, 0.91335744, 0.93652344, 0.93840679, 0.94068506]),\n",
       " array([-0.01063969,  0.54040848,  0.64266551,  0.76381091,  0.65922591,\n",
       "         0.75737122,  0.77130324,  0.38779951,  0.81042061, -0.59293198]))"
      ]
     },
     "execution_count": 91,
     "metadata": {},
     "output_type": "execute_result"
    }
   ],
   "source": [
    "answer_three()"
   ]
  },
  {
   "cell_type": "code",
   "execution_count": 112,
   "metadata": {},
   "outputs": [],
   "source": [
    "# answer_two()"
   ]
  },
  {
   "cell_type": "code",
   "execution_count": null,
   "metadata": {},
   "outputs": [],
   "source": []
  }
 ],
 "metadata": {
  "anaconda-cloud": {},
  "colab": {
   "collapsed_sections": [
    "yJblUABQ6R07",
    "-_pUE4abw2eQ",
    "itE2L8t4w2ee",
    "zEPri5P8yZeL"
   ],
   "provenance": []
  },
  "kernelspec": {
   "display_name": "Python 3 (ipykernel)",
   "language": "python",
   "name": "python3"
  },
  "language_info": {
   "codemirror_mode": {
    "name": "ipython",
    "version": 3
   },
   "file_extension": ".py",
   "mimetype": "text/x-python",
   "name": "python",
   "nbconvert_exporter": "python",
   "pygments_lexer": "ipython3",
   "version": "3.9.0"
  }
 },
 "nbformat": 4,
 "nbformat_minor": 1
}
